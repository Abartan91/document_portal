{
 "cells": [
  {
   "cell_type": "code",
   "execution_count": 1,
   "id": "1813b521",
   "metadata": {},
   "outputs": [],
   "source": [
    "import logging\n",
    "import os\n",
    "from datetime import datetime"
   ]
  },
  {
   "cell_type": "code",
   "execution_count": 2,
   "id": "2bf820ec",
   "metadata": {},
   "outputs": [],
   "source": [
    "logs_dir=os.path.join(os.getcwd(), \"logs\")"
   ]
  },
  {
   "cell_type": "code",
   "execution_count": 3,
   "id": "68158a5e",
   "metadata": {},
   "outputs": [],
   "source": [
    "os.makedirs(logs_dir, exist_ok=True)"
   ]
  },
  {
   "cell_type": "code",
   "execution_count": 4,
   "id": "96b950af",
   "metadata": {},
   "outputs": [],
   "source": [
    "LOG_FILE =  f\"{datetime.now().strftime('%Y-%m-%d_%H-%M-%S')}.log\""
   ]
  },
  {
   "cell_type": "code",
   "execution_count": 5,
   "id": "d17d0918",
   "metadata": {},
   "outputs": [
    {
     "data": {
      "text/plain": [
       "'2025-08-25_16-53-17.log'"
      ]
     },
     "execution_count": 5,
     "metadata": {},
     "output_type": "execute_result"
    }
   ],
   "source": [
    "LOG_FILE"
   ]
  },
  {
   "cell_type": "code",
   "execution_count": 10,
   "id": "b3d52fd2",
   "metadata": {},
   "outputs": [],
   "source": [
    "LOG_FILE_PATH=os.path.join(logs_dir, LOG_FILE )"
   ]
  },
  {
   "cell_type": "code",
   "execution_count": 9,
   "id": "48363362",
   "metadata": {},
   "outputs": [
    {
     "data": {
      "text/plain": [
       "'d:\\\\document_portal\\\\notebook\\\\logs\\\\2025-08-25_16-53-17.log'"
      ]
     },
     "execution_count": 9,
     "metadata": {},
     "output_type": "execute_result"
    }
   ],
   "source": [
    "LOG_FILE"
   ]
  },
  {
   "cell_type": "code",
   "execution_count": 11,
   "id": "e3ab951b",
   "metadata": {},
   "outputs": [],
   "source": [
    "logging.basicConfig(\n",
    "    filename=LOG_FILE_PATH,\n",
    "    format=\"[%(asctime)s] %(lineno)d %(name)s - %(levelname)s - %(message)s\",\n",
    "    level=logging.INFO,\n",
    "\n",
    ")\n",
    "                "
   ]
  },
  {
   "cell_type": "code",
   "execution_count": 13,
   "id": "fa4933fd",
   "metadata": {},
   "outputs": [],
   "source": [
    "logger=logging.getLogger(\"DocumentPOrtal\")"
   ]
  },
  {
   "cell_type": "code",
   "execution_count": 14,
   "id": "9a94df2f",
   "metadata": {},
   "outputs": [],
   "source": [
    "logger.info(\"Logging has started\")"
   ]
  }
 ],
 "metadata": {
  "kernelspec": {
   "display_name": "Python 3",
   "language": "python",
   "name": "python3"
  },
  "language_info": {
   "codemirror_mode": {
    "name": "ipython",
    "version": 3
   },
   "file_extension": ".py",
   "mimetype": "text/x-python",
   "name": "python",
   "nbconvert_exporter": "python",
   "pygments_lexer": "ipython3",
   "version": "3.10.18"
  }
 },
 "nbformat": 4,
 "nbformat_minor": 5
}
